{
  "nbformat": 4,
  "nbformat_minor": 0,
  "metadata": {
    "colab": {
      "name": "RandomForestXGBoost.ipynb",
      "provenance": [],
      "collapsed_sections": [],
      "include_colab_link": true
    },
    "kernelspec": {
      "name": "python3",
      "display_name": "Python 3"
    }
  },
  "cells": [
    {
      "cell_type": "markdown",
      "metadata": {
        "id": "view-in-github",
        "colab_type": "text"
      },
      "source": [
        "<a href=\"https://colab.research.google.com/github/mrunallachake/FakeReview/blob/master/RandomForestXGBoost.ipynb\" target=\"_parent\"><img src=\"https://colab.research.google.com/assets/colab-badge.svg\" alt=\"Open In Colab\"/></a>"
      ]
    },
    {
      "cell_type": "code",
      "metadata": {
        "id": "Oz-3S0NwB--7",
        "colab_type": "code",
        "colab": {}
      },
      "source": [
        "import pandas as pd\n",
        "import numpy as np\n",
        "import io\n",
        "import re\n",
        "import nltk\n",
        "from nltk.stem.porter import PorterStemmer\n",
        "from sklearn.metrics import confusion_matrix\n",
        "from sklearn.model_selection import GridSearchCV\n",
        "from google.colab import output"
      ],
      "execution_count": 0,
      "outputs": []
    },
    {
      "cell_type": "code",
      "metadata": {
        "id": "2xfTCZzxCU60",
        "colab_type": "code",
        "colab": {}
      },
      "source": [
        "nltk.download('stopwords')\n",
        "from nltk.corpus import stopwords"
      ],
      "execution_count": 0,
      "outputs": []
    },
    {
      "cell_type": "code",
      "metadata": {
        "id": "2ECZ5OyrCW1H",
        "colab_type": "code",
        "colab": {}
      },
      "source": [
        "!pip install -U -q PyDrive\n",
        "from pydrive.auth import GoogleAuth\n",
        "from pydrive.drive import GoogleDrive\n",
        "from google.colab import auth\n",
        "from oauth2client.client import GoogleCredentials\n",
        "auth.authenticate_user()\n",
        "gauth = GoogleAuth()\n",
        "gauth.credentials = GoogleCredentials.get_application_default()\n",
        "drive = GoogleDrive(gauth)"
      ],
      "execution_count": 0,
      "outputs": []
    },
    {
      "cell_type": "code",
      "metadata": {
        "id": "U-f34FFVCa_i",
        "colab_type": "code",
        "colab": {}
      },
      "source": [
        "downloaded = drive.CreateFile({'id':'1x5_EAynaSjZq7m_8vT6tTbrt9QGiBBjD'}) \n",
        "downloaded.GetContentFile('amazon_reviews.tsv') "
      ],
      "execution_count": 0,
      "outputs": []
    },
    {
      "cell_type": "code",
      "metadata": {
        "id": "6UZY6G8UCr-W",
        "colab_type": "code",
        "colab": {}
      },
      "source": [
        "import pandas as pd\n",
        "dataset = pd.read_csv('amazon_reviews.tsv', delimiter= '\\t', quoting=3) \n",
        "X = dataset.iloc[:,[2,3]].values\n",
        "y = dataset.iloc[:,1].values\n",
        "display(dataset)"
      ],
      "execution_count": 0,
      "outputs": []
    },
    {
      "cell_type": "code",
      "metadata": {
        "id": "5rmwQQxupwk5",
        "colab_type": "code",
        "colab": {}
      },
      "source": [
        "print(type(X))\n",
        "print(X.shape)\n",
        "print(X)"
      ],
      "execution_count": 0,
      "outputs": []
    },
    {
      "cell_type": "code",
      "metadata": {
        "id": "wbv6p37y7u9n",
        "colab_type": "code",
        "colab": {}
      },
      "source": [
        "#handling categarical data\n",
        "from sklearn.preprocessing import LabelEncoder, OneHotEncoder\n",
        "labelEncoder_y= LabelEncoder()\n",
        "y = labelEncoder_y.fit_transform(y)"
      ],
      "execution_count": 0,
      "outputs": []
    },
    {
      "cell_type": "code",
      "metadata": {
        "id": "qgWj0fCWCyof",
        "colab_type": "code",
        "colab": {}
      },
      "source": [
        "corpus = []\n",
        "review_len = []\n",
        "for i in range(0, 21000):\n",
        "    review = re.sub('[^a-zA-Z]',' ', dataset['REVIEW_TEXT'][i])\n",
        "    review = review.lower()\n",
        "    rev_len = len(review)\n",
        "    review_len.append(rev_len)\n",
        "    review = review.split()\n",
        "    ps = PorterStemmer()\n",
        "    review = [ps.stem(word) for word in review if not word in set(stopwords.words('english'))]\n",
        "    review = ' '.join(review)\n",
        "    corpus.append(review)"
      ],
      "execution_count": 0,
      "outputs": []
    },
    {
      "cell_type": "code",
      "metadata": {
        "id": "jJq8RcYYC9JM",
        "colab_type": "code",
        "colab": {}
      },
      "source": [
        "c_corpus = list(corpus)"
      ],
      "execution_count": 0,
      "outputs": []
    },
    {
      "cell_type": "code",
      "metadata": {
        "id": "VEUX0MObC2ip",
        "colab_type": "code",
        "colab": {}
      },
      "source": [
        "from sklearn.feature_extraction.text import TfidfVectorizer\n",
        "cv = TfidfVectorizer(max_features = 750)\n",
        "corpus = cv.fit_transform(corpus)"
      ],
      "execution_count": 0,
      "outputs": []
    },
    {
      "cell_type": "code",
      "metadata": {
        "id": "f5DMQjw7C4xj",
        "colab_type": "code",
        "colab": {}
      },
      "source": [
        "review_len = np.array(review_len)\n",
        "review_len = review_len.T\n",
        "X = np.append(X,corpus.toarray(),axis=1)\n",
        "X = np.column_stack((X,review_len))\n",
        "print(X)"
      ],
      "execution_count": 0,
      "outputs": []
    },
    {
      "cell_type": "code",
      "metadata": {
        "id": "0GDXvtznsVa4",
        "colab_type": "code",
        "colab": {}
      },
      "source": [
        "X = np.delete(X,1,axis=1)\n",
        "print(X)"
      ],
      "execution_count": 0,
      "outputs": []
    },
    {
      "cell_type": "code",
      "metadata": {
        "id": "wbAsimkdC87T",
        "colab_type": "code",
        "colab": {}
      },
      "source": [
        "from random import randint\n",
        "from sklearn.model_selection import train_test_split\n",
        "X_train, X_test, y_train, y_test = train_test_split(X, y, test_size = 0.2, random_state = 0)"
      ],
      "execution_count": 0,
      "outputs": []
    },
    {
      "cell_type": "code",
      "metadata": {
        "id": "hWftAb3SsFvA",
        "colab_type": "code",
        "colab": {}
      },
      "source": [
        "from xgboost import XGBRFClassifier\n",
        "classifier = XGBRFClassifier(n_estimators = 150, criterion = 'gini', random_state = 0, min_samples_leaf = 3, min_samples_split = 5,\n",
        "                             max_depth = 15, learning_rate = 0.01, gamma = 0.4, min_child_weight = 0.5, colsample_bytree = 0.3,\n",
        "                             colsample_bylevel = 0.2)"
      ],
      "execution_count": 0,
      "outputs": []
    },
    {
      "cell_type": "code",
      "metadata": {
        "id": "vRjwSVGMDqLG",
        "colab_type": "code",
        "colab": {}
      },
      "source": [
        "classifier.fit(X_train, y_train)"
      ],
      "execution_count": 0,
      "outputs": []
    },
    {
      "cell_type": "code",
      "metadata": {
        "id": "kJl_JJ3JD1Ui",
        "colab_type": "code",
        "colab": {}
      },
      "source": [
        "y_pred = classifier.predict(X_test)"
      ],
      "execution_count": 0,
      "outputs": []
    },
    {
      "cell_type": "code",
      "metadata": {
        "id": "9-NwID_JD6wr",
        "colab_type": "code",
        "outputId": "1a1b8f4d-a4ab-45f2-cfd3-a91b6a4b7138",
        "colab": {
          "base_uri": "https://localhost:8080/",
          "height": 67
        }
      },
      "source": [
        "cm = confusion_matrix(y_test, y_pred)\n",
        "print(cm)\n",
        "accuracy = (cm[0][0]+cm[1][1])/(cm[0][0]+cm[0][1]+cm[1][0]+cm[1][1])\n",
        "print(accuracy*100)"
      ],
      "execution_count": 0,
      "outputs": [
        {
          "output_type": "stream",
          "text": [
            "[[1445  653]\n",
            " [ 835 1267]]\n",
            "64.57142857142857\n"
          ],
          "name": "stdout"
        }
      ]
    },
    {
      "cell_type": "code",
      "metadata": {
        "id": "g09wNnqTtxmQ",
        "colab_type": "code",
        "outputId": "d659ed97-bd95-40ca-ad67-4f18b401be10",
        "colab": {
          "base_uri": "https://localhost:8080/",
          "height": 50
        }
      },
      "source": [
        "precision = (cm[0][0])/(cm[0][0]+cm[0][1])\n",
        "recall = (cm[0][0])/(cm[0][0]+cm[1][0])\n",
        "print(precision)\n",
        "print(recall)"
      ],
      "execution_count": 0,
      "outputs": [
        {
          "output_type": "stream",
          "text": [
            "0.6887511916110581\n",
            "0.6337719298245614\n"
          ],
          "name": "stdout"
        }
      ]
    },
    {
      "cell_type": "code",
      "metadata": {
        "id": "mO-3ijb0YCzN",
        "colab_type": "code",
        "colab": {}
      },
      "source": [
        " !pip install mlens\n",
        " import mlens\n",
        " print(mlens.__version__)"
      ],
      "execution_count": 0,
      "outputs": []
    },
    {
      "cell_type": "code",
      "metadata": {
        "id": "4J9sJsjoUWiy",
        "colab_type": "code",
        "colab": {}
      },
      "source": [
        "import matplotlib.pyplot as plt\n",
        "from sklearn.model_selection import validation_curve\n",
        "# Create range of values for parameter\n",
        "param_range = [0.00001,0.0001,0.001,0.01,0.1,1]\n",
        "\n",
        "# Calculate accuracy on training and test set using range of parameter values\n",
        "train_scores, test_scores = validation_curve(XGBRFClassifier(n_estimators = 150, criterion = 'gini', random_state = 0, min_samples_leaf = 3, min_samples_split = 5,\n",
        "                                             max_depth = 15, learning_rate = 0.01, subsample = 0.5, gamma = 0.4, colsample_bytree =  0.3, colsample_bylevel = 0.2), \n",
        "                                             X_train, \n",
        "                                             y_train, \n",
        "                                             param_name=\"alpha\", \n",
        "                                             param_range=param_range,\n",
        "                                             cv=3, \n",
        "                                             scoring=\"accuracy\")\n",
        "\n",
        "output.eval_js('new Audio(\"https://upload.wikimedia.org/wikipedia/commons/0/05/Beep-09.ogg\").play()')\n",
        "\n",
        "#colsample_bytree =  0.3\n",
        "#colsample_bylevel = 0.7,0.2\n",
        "#colsample_bynode = 0.2,0.3"
      ],
      "execution_count": 0,
      "outputs": []
    },
    {
      "cell_type": "code",
      "metadata": {
        "id": "Zbp606Jua41A",
        "colab_type": "code",
        "colab": {}
      },
      "source": [
        "# Calculate mean and standard deviation for training set scores\n",
        "train_mean = np.mean(train_scores, axis=1)\n",
        "train_std = np.std(train_scores, axis=1)\n",
        "\n",
        "# Calculate mean and standard deviation for test set scores\n",
        "test_mean = np.mean(test_scores, axis=1)\n",
        "test_std = np.std(test_scores, axis=1)"
      ],
      "execution_count": 0,
      "outputs": []
    },
    {
      "cell_type": "code",
      "metadata": {
        "id": "VDwi1uPoa8p0",
        "colab_type": "code",
        "colab": {}
      },
      "source": [
        "# Plot mean accuracy scores for training and test sets\n",
        "plt.plot(param_range, train_mean, label=\"Training score\", color=\"black\")\n",
        "plt.plot(param_range, test_mean, label=\"Cross-validation score\", color=\"dimgrey\")\n",
        "\n",
        "# Plot accurancy bands for training and test sets\n",
        "plt.fill_between(param_range, train_mean - train_std, train_mean + train_std, color=\"gray\")\n",
        "plt.fill_between(param_range, test_mean - test_std, test_mean + test_std, color=\"gainsboro\")\n",
        "\n",
        "# Create plot\n",
        "plt.title(\"Validation Curve With Random Forest\")\n",
        "plt.xlabel(\"Number Of Trees\")\n",
        "plt.ylabel(\"Accuracy Score\")\n",
        "plt.tight_layout()\n",
        "plt.legend(loc=\"best\")\n",
        "plt.show()\n",
        "\n",
        "print(test_mean)"
      ],
      "execution_count": 0,
      "outputs": []
    }
  ]
}